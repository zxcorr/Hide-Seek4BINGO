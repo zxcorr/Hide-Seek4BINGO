{
 "cells": [
  {
   "cell_type": "code",
   "execution_count": null,
   "metadata": {},
   "outputs": [],
   "source": [
    "import numpy as np\n",
    "import astropy.io.fits as pyfits\n",
    "import healpy as hp \n",
    "import matplotlib.pyplot as plt\n",
    "import os\n",
    "\n"
   ]
  },
  {
   "cell_type": "code",
   "execution_count": 53,
   "metadata": {},
   "outputs": [
    {
     "name": "stdout",
     "output_type": "stream",
     "text": [
      "['freqs_foregrounds_test.fits', 'delta_Nside_128_Nseed_10001.fits', 'synch_cube_hs_test.fits', 'maps_foregrounds_test.fits', 'point_sources_cube_hs_test.fits', 'foreground_cube_hs_test.fits', 'thermal_dust_cube_hs_test.fits', 'free_free_cube_hs_test.fits', 'ame_cube_hs_test.fits']\n",
      "cmb_cube_hs_test.fits\n"
     ]
    }
   ],
   "source": [
    "arx = os.listdir(os.getcwd())\n",
    "freqs = arx.pop(1)\n",
    "\n",
    "print(arx)\n",
    "print(freqs)"
   ]
  },
  {
   "cell_type": "code",
   "execution_count": 54,
   "metadata": {},
   "outputs": [],
   "source": [
    "arq = os.listdir(os.getcwd())[-1]"
   ]
  },
  {
   "cell_type": "code",
   "execution_count": 55,
   "metadata": {},
   "outputs": [],
   "source": [
    "hdu = pyfits.open(arq)"
   ]
  },
  {
   "cell_type": "code",
   "execution_count": 56,
   "metadata": {},
   "outputs": [
    {
     "name": "stdout",
     "output_type": "stream",
     "text": [
      "Filename: ame_cube_hs_test.fits\n",
      "No.    Name      Ver    Type      Cards   Dimensions   Format\n",
      "  0  PRIMARY       1 PrimaryHDU       6   (196608, 30)   float64   \n"
     ]
    }
   ],
   "source": [
    "    hdu.info()"
   ]
  },
  {
   "cell_type": "code",
   "execution_count": 57,
   "metadata": {},
   "outputs": [
    {
     "data": {
      "text/plain": [
       "128"
      ]
     },
     "execution_count": 57,
     "metadata": {},
     "output_type": "execute_result"
    }
   ],
   "source": [
    "hp.npix2nside(196608)       # 196608 = numero de pixels para 30 mapas"
   ]
  },
  {
   "cell_type": "code",
   "execution_count": 58,
   "metadata": {},
   "outputs": [
    {
     "name": "stdout",
     "output_type": "stream",
     "text": [
      "[[3.16052570e-05 3.21746040e-05 3.27522490e-05 ... 5.00758759e-05\n",
      "  5.08838457e-05 5.17006358e-05]\n",
      " [3.81888927e-05 3.88768394e-05 3.95748126e-05 ... 6.05070938e-05\n",
      "  6.14833704e-05 6.24703046e-05]\n",
      " [3.33036811e-05 3.39036241e-05 3.45123109e-05 ... 5.27668863e-05\n",
      "  5.36182753e-05 5.44789586e-05]\n",
      " ...\n",
      " [4.78830143e-05 4.87455939e-05 4.96207453e-05 ... 7.58666156e-05\n",
      "  7.70907166e-05 7.83281807e-05]\n",
      " [4.18994929e-05 4.26542836e-05 4.34200749e-05 ... 6.63862284e-05\n",
      "  6.74573643e-05 6.85401933e-05]\n",
      " [4.04743708e-05 4.12034888e-05 4.19432334e-05 ... 6.41282420e-05\n",
      "  6.51629455e-05 6.62089444e-05]]\n"
     ]
    }
   ],
   "source": [
    "maps = pyfits.getdata(arq).T     #.T matriz transposta\n",
    "print(maps)"
   ]
  },
  {
   "cell_type": "code",
   "execution_count": 59,
   "metadata": {},
   "outputs": [
    {
     "data": {
      "text/plain": [
       "(196608, 30)"
      ]
     },
     "execution_count": 59,
     "metadata": {},
     "output_type": "execute_result"
    }
   ],
   "source": [
    "np.shape(maps)"
   ]
  },
  {
   "cell_type": "code",
   "execution_count": 52,
   "metadata": {},
   "outputs": [
    {
     "ename": "IndexError",
     "evalue": "too many indices for array",
     "output_type": "error",
     "traceback": [
      "\u001b[0;31m---------------------------------------------------------------------------\u001b[0m",
      "\u001b[0;31mIndexError\u001b[0m                                Traceback (most recent call last)",
      "\u001b[0;32m<ipython-input-52-c81579e8f545>\u001b[0m in \u001b[0;36m<module>\u001b[0;34m\u001b[0m\n\u001b[0;32m----> 1\u001b[0;31m \u001b[0mmap1\u001b[0m \u001b[0;34m=\u001b[0m \u001b[0mmaps\u001b[0m\u001b[0;34m[\u001b[0m\u001b[0;34m:\u001b[0m\u001b[0;34m,\u001b[0m\u001b[0;36m0\u001b[0m\u001b[0;34m]\u001b[0m            \u001b[0;31m#map1 = maps[:,0]\u001b[0m\u001b[0;34m\u001b[0m\u001b[0;34m\u001b[0m\u001b[0m\n\u001b[0m",
      "\u001b[0;31mIndexError\u001b[0m: too many indices for array"
     ]
    }
   ],
   "source": [
    "map1 = maps[:,0]            #map1 = maps[:,0]\n"
   ]
  },
  {
   "cell_type": "code",
   "execution_count": 44,
   "metadata": {},
   "outputs": [
    {
     "data": {
      "image/png": "[encoded data removed]",
      "text/plain": [
       "<Figure size 612x388.8 with 2 Axes>"
      ]
     },
     "metadata": {
      "needs_background": "light"
     },
     "output_type": "display_data"
    }
   ],
   "source": [
    "hp.mollview(map1)  "
   ]
  },
  {
   "cell_type": "code",
   "execution_count": null,
   "metadata": {},
   "outputs": [],
   "source": []
  },
  {
   "cell_type": "code",
   "execution_count": null,
   "metadata": {},
   "outputs": [],
   "source": []
  }
 ],
 "metadata": {
  "kernelspec": {
   "display_name": "Python 3",
   "language": "python",
   "name": "python3"
  },
  "language_info": {
   "codemirror_mode": {
    "name": "ipython",
    "version": 3
   },
   "file_extension": ".py",
   "mimetype": "text/x-python",
   "name": "python",
   "nbconvert_exporter": "python",
   "pygments_lexer": "ipython3",
   "version": "3.7.6"
  }
 },
 "nbformat": 4,
 "nbformat_minor": 4
}
